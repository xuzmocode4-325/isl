{
 "cells": [
  {
   "cell_type": "markdown",
   "id": "6dfd5e3a",
   "metadata": {},
   "source": [
    "# Linear Regression Excercises"
   ]
  },
  {
   "cell_type": "markdown",
   "id": "97fff53a",
   "metadata": {},
   "source": [
    "### Conceptual Challenges"
   ]
  },
  {
   "cell_type": "markdown",
   "id": "c951c14c",
   "metadata": {},
   "source": [
    "1. Describe the null hypotheses to which the p-values given in Table 3.4\n",
    "correspond. Explain what conclusions you can draw based on these\n",
    "p-values. Your explanation should be phrased in terms of sales, TV,\n",
    "radio, and newspaper, rather than in terms of the coefficients of the\n",
    "linear model.\n",
    "\n",
    "![tables 3.4 and 3.5](/2-linear-regression/img/table-3_4-and-3_5.png)"
   ]
  },
  {
   "cell_type": "markdown",
   "id": "158bb3ce",
   "metadata": {},
   "source": [
    "> The null hypotheses to which the p-values given in Table 3.4 correspond are that TV, Radio and Newspaper advertising each have no impact or influence on Sales. "
   ]
  },
  {
   "cell_type": "markdown",
   "id": "596ddaf9",
   "metadata": {},
   "source": [
    "> Based on the p-values, I can draw the conclusion that there is a very small probability (p-value) that TV and Radio have no impact on Sales. On the other hand, there is a high chance that Newspaper advertising has very little impact on sales.  "
   ]
  },
  {
   "cell_type": "markdown",
   "id": "65a2ceb7",
   "metadata": {},
   "source": [
    "2. Carefully explain the differences between the KNN classifier and KNN\n",
    "regression methods. "
   ]
  },
  {
   "cell_type": "markdown",
   "id": "2f2ac896",
   "metadata": {
    "vscode": {
     "languageId": "plaintext"
    }
   },
   "source": [
    "> KNN is a non parametric statistical learning method. Non-parametric statistical methods do not assume or ascribe any shape to the data. \n",
    "\n",
    "> KNN classifier is used to predict classes or qualitative data. Given a prediction point, and a value for K, it will estimate the class of the prediction point by assigning to it the class that most of the K observations belong to.\n",
    "\n",
    "> KNN regression is used to predict numerical or quantitative values.  Given a prediction point and a value for K, it will estimate the value of the prediction point by averaging the value of the K values nearest to the prediction point. "
   ]
  },
  {
   "cell_type": "markdown",
   "id": "68faa969",
   "metadata": {
    "vscode": {
     "languageId": "plaintext"
    }
   },
   "source": [
    "3. Suppose we have a data set with five predictors, `X1 = GPA`, `X2 = IQ`, `X3 = Level` (1 for College and 0 for High School), `X4 = Interaction between GPA and IQ`, and `X5 = Interaction between GPA and Level`. The response is starting salary after graduation (in thousands of dollars). Suppose we use least squares to fit the model, and get β0 = 50, β1 = 20, β2 = 0.07, β3 = 35, β4 = 0.01, β5 =−10.\n",
    "\n",
    "    (a) Which answer is correct, and why?\n",
    "\n",
    "    i. For a fixed value of IQ and GPA, high school graduates earn more, on average, than college graduates.  \n",
    "    ii. For a fixed value of IQ and GPA, college graduates earn more, on average, than high school graduates.  \n",
    "    iii. For a fixed value of IQ and GPA, high school graduates earn more, on average, than college graduates provided that the GPA is high enough.  \n",
    "    iv. For a fixed value of IQ and GPA, college graduates earn more, on average, than high school graduates provided that the GPA is high enough.  \n",
    "\n",
    "    > The third statement is true. The parameter X3 is a one-hot encoded categorical varable where `college graduate is represented by a value of 1` and `high-school student is represented by a value of 0`. When holding IQ and GPA fixed on average the college student will have a higher salary because the coefficient for X3 is a positive value (35) provided the GPA is low, to minimise the impact of the interaction term between GPA and Level. \n",
    "\n",
    "    (b) Predict the salary of a college graduate with IQ of 110 and a GPA of 4.0.\n",
    "\n",
    "    > 87k\n",
    "\n",
    "    (c) True or false: Since the coefficient for the GPA/IQ interaction term is very small, there is very little evidence of an interaction effect. Justify your answer.\n",
    "\n",
    "    > False. The coefficient itself being small does not disprove that an interaction effect exists. If the model accuracy improves with the inclusion of the interaction term and the p-value of the interaction term is statistically significant, it is valid to include. "
   ]
  },
  {
   "cell_type": "markdown",
   "id": "e8c4cc68",
   "metadata": {
    "vscode": {
     "languageId": "plaintext"
    }
   },
   "source": [
    "4. I collect a set of data (n = 100 observations) containing a single predictor and a quantitative response. I then fit a linear regression model to the data, as well as a separate cubic regression, i.e. Y= β0 + β1X + β2X2 + β3X3 + ϵ.\n",
    "\n",
    "    (a) Suppose that the true relationship between X and Y is linear, i.e. Y= β0 + β1X + ϵ. Consider the training residual sum of squares (RSS) for the linear regression, and also the training RSS for the cubic regression. Would we expect one to be lower than the other would we expect them to be the same, or is there not enough information to tell? Justify your answer.  \n",
    "\n",
    "    > We would expect the linear model to perform better. The cubic model would be unnecessarily squiggly and either overestimate or underestimate the noise in some areas, resulting in a higher RSS.\n",
    "\n",
    "    (b) Answer (a) using test rather than training RSS.  \n",
    "\n",
    "    > Because the linear model is a better fit, the training RSS would be lower for the linear model that it would be for the cubic. This is for the same reason that the training RSS would be higher. The model's lower bias in this case does not help to improve accuracy because the true relationship between X and Y is linear. \n",
    "\n",
    "    (c) Suppose that the true relationship between X and Y is not linear, but we don’t know how far it is from linear. Consider the training RSS for the linear regression, and also the training RSS for the cubic regression. Would we expect one to be lower than the other, would we expect them to be the same, or is there not enough information to tell? Justify your answer.\n",
    "\n",
    "    > There is not enought information to tell. Without knowing the true form of the relationship, it is not easy to determine which model would perform better. It is something that can only be determined through trial and error. \n",
    "\n",
    "    (d) Answer (c) using test rather than training RSS.\n",
    "\n",
    "    > There is not enough information to tell. "
   ]
  },
  {
   "cell_type": "markdown",
   "id": "ac615f40",
   "metadata": {},
   "source": [
    "5. Consider the fitted values that result from performing linear regression without an intercept. In this setting, the ith fitted value takes the form. \n",
    "\n"
   ]
  }
 ],
 "metadata": {
  "kernelspec": {
   "display_name": "islp",
   "language": "python",
   "name": "python3"
  },
  "language_info": {
   "codemirror_mode": {
    "name": "ipython",
    "version": 3
   },
   "file_extension": ".py",
   "mimetype": "text/x-python",
   "name": "python",
   "nbconvert_exporter": "python",
   "pygments_lexer": "ipython3",
   "version": "3.13.0"
  }
 },
 "nbformat": 4,
 "nbformat_minor": 5
}
