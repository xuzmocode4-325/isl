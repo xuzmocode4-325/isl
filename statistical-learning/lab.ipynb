{
 "cells": [
  {
   "cell_type": "markdown",
   "metadata": {},
   "source": [
    "# Statitistical Learning Lab"
   ]
  },
  {
   "cell_type": "markdown",
   "metadata": {},
   "source": [
    "## Data Types, Arrays and Basics"
   ]
  },
  {
   "cell_type": "code",
   "execution_count": 1,
   "metadata": {},
   "outputs": [
    {
     "name": "stdout",
     "output_type": "stream",
     "text": [
      "fit a model with 11 variables\n"
     ]
    }
   ],
   "source": [
    "print('fit a model with', 11, 'variables')"
   ]
  },
  {
   "cell_type": "code",
   "execution_count": 7,
   "metadata": {},
   "outputs": [
    {
     "data": {
      "text/plain": [
       "[1, 'yeah baby', 3, 4, 5, True]"
      ]
     },
     "execution_count": 7,
     "metadata": {},
     "output_type": "execute_result"
    }
   ],
   "source": [
    "# list concatenation\n",
    "x = [1, \"yeah baby\", 3]\n",
    "y = [4, 5, True]\n",
    "\n",
    "x + y "
   ]
  },
  {
   "cell_type": "markdown",
   "metadata": {},
   "source": [
    "## Tuples\n"
   ]
  },
  {
   "cell_type": "code",
   "execution_count": 30,
   "metadata": {},
   "outputs": [
    {
     "data": {
      "text/plain": [
       "3"
      ]
     },
     "execution_count": 30,
     "metadata": {},
     "output_type": "execute_result"
    }
   ],
   "source": [
    "my_tuple = (3, 4, 5)\n",
    "my_tuple[0] "
   ]
  },
  {
   "cell_type": "code",
   "execution_count": 32,
   "metadata": {},
   "outputs": [
    {
     "ename": "TypeError",
     "evalue": "'tuple' object does not support item assignment",
     "output_type": "error",
     "traceback": [
      "\u001b[0;31m---------------------------------------------------------------------------\u001b[0m",
      "\u001b[0;31mTypeError\u001b[0m                                 Traceback (most recent call last)",
      "Cell \u001b[0;32mIn[32], line 2\u001b[0m\n\u001b[1;32m      1\u001b[0m \u001b[38;5;66;03m# tuples are immutable\u001b[39;00m\n\u001b[0;32m----> 2\u001b[0m \u001b[43mmy_tuple\u001b[49m\u001b[43m[\u001b[49m\u001b[38;5;241;43m0\u001b[39;49m\u001b[43m]\u001b[49m \u001b[38;5;241m=\u001b[39m \u001b[38;5;241m2\u001b[39m\n",
      "\u001b[0;31mTypeError\u001b[0m: 'tuple' object does not support item assignment"
     ]
    }
   ],
   "source": [
    "# tuples are immutable\n",
    "my_tuple[0] = 2"
   ]
  },
  {
   "cell_type": "markdown",
   "metadata": {},
   "source": [
    "## Numpy"
   ]
  },
  {
   "cell_type": "code",
   "execution_count": 10,
   "metadata": {},
   "outputs": [],
   "source": [
    "import numpy as np"
   ]
  },
  {
   "cell_type": "code",
   "execution_count": 12,
   "metadata": {},
   "outputs": [],
   "source": [
    "# adding arrays\n",
    "x = np.array([1, 2, 3])\n",
    "y = np.array([5, 7, 9])"
   ]
  },
  {
   "cell_type": "code",
   "execution_count": 14,
   "metadata": {},
   "outputs": [
    {
     "data": {
      "text/plain": [
       "array([ 6,  9, 12])"
      ]
     },
     "execution_count": 14,
     "metadata": {},
     "output_type": "execute_result"
    }
   ],
   "source": [
    "z = x + y\n",
    "z"
   ]
  },
  {
   "cell_type": "markdown",
   "metadata": {},
   "source": [
    "### Array Attributes"
   ]
  },
  {
   "cell_type": "code",
   "execution_count": 16,
   "metadata": {},
   "outputs": [
    {
     "data": {
      "text/plain": [
       "1"
      ]
     },
     "execution_count": 16,
     "metadata": {},
     "output_type": "execute_result"
    }
   ],
   "source": [
    "# number of dimension\n",
    "x.ndim"
   ]
  },
  {
   "cell_type": "code",
   "execution_count": 17,
   "metadata": {},
   "outputs": [
    {
     "data": {
      "text/plain": [
       "dtype('int64')"
      ]
     },
     "execution_count": 17,
     "metadata": {},
     "output_type": "execute_result"
    }
   ],
   "source": [
    "# data type\n",
    "x.dtype"
   ]
  },
  {
   "cell_type": "code",
   "execution_count": 18,
   "metadata": {},
   "outputs": [
    {
     "data": {
      "text/plain": [
       "(3,)"
      ]
     },
     "execution_count": 18,
     "metadata": {},
     "output_type": "execute_result"
    }
   ],
   "source": [
    "# array shape\n",
    "x.shape"
   ]
  },
  {
   "cell_type": "markdown",
   "metadata": {},
   "source": [
    "### Methods"
   ]
  },
  {
   "cell_type": "code",
   "execution_count": 19,
   "metadata": {},
   "outputs": [
    {
     "data": {
      "text/plain": [
       "27"
      ]
     },
     "execution_count": 19,
     "metadata": {},
     "output_type": "execute_result"
    }
   ],
   "source": [
    "# array sum\n",
    "z.sum()"
   ]
  },
  {
   "cell_type": "code",
   "execution_count": 20,
   "metadata": {},
   "outputs": [
    {
     "data": {
      "text/plain": [
       "9.0"
      ]
     },
     "execution_count": 20,
     "metadata": {},
     "output_type": "execute_result"
    }
   ],
   "source": [
    "# array mean\n",
    "z.mean()"
   ]
  },
  {
   "cell_type": "code",
   "execution_count": 24,
   "metadata": {},
   "outputs": [
    {
     "data": {
      "text/plain": [
       "array([ 6,  9, 12])"
      ]
     },
     "execution_count": 24,
     "metadata": {},
     "output_type": "execute_result"
    }
   ],
   "source": []
  },
  {
   "cell_type": "code",
   "execution_count": 28,
   "metadata": {},
   "outputs": [
    {
     "name": "stdout",
     "output_type": "stream",
     "text": [
      "start w:\n",
      " [1 2 3 4 5 6]\n",
      "end w:\n",
      " [[1 2 3]\n",
      " [4 5 6]]\n"
     ]
    },
    {
     "data": {
      "text/plain": [
       "(2, 3)"
      ]
     },
     "execution_count": 28,
     "metadata": {},
     "output_type": "execute_result"
    }
   ],
   "source": [
    "# array reshape\n",
    "w = np.array([1, 2, 3, 4, 5, 6])\n",
    "print('start w:\\n', w)\n",
    "w_reshaped = w.reshape((2, 3)) # accepts a tuple of two numerical values in the format (rows, columns)\n",
    "print('end w:\\n', w_reshaped)\n",
    "w_reshaped.shape"
   ]
  },
  {
   "cell_type": "code",
   "execution_count": 29,
   "metadata": {},
   "outputs": [
    {
     "name": "stdout",
     "output_type": "stream",
     "text": [
      "pre-modification w:\n",
      " [1 2 3 4 5 6]\n",
      "pre-modification w_reshaped:\n",
      " [[1 2 3]\n",
      " [4 5 6]]\n",
      "post-modification w:\n",
      " [1 2 3 4 7 6]\n",
      "post-modification w_reshaped:\n",
      " [[1 2 3]\n",
      " [4 7 6]]\n"
     ]
    }
   ],
   "source": [
    "print('pre-modification w:\\n', w)\n",
    "print('pre-modification w_reshaped:\\n', w_reshaped)\n",
    "w_reshaped[1, 1] = 7 # changed the second element in second array to  7 from 5\n",
    "print('post-modification w:\\n', w)\n",
    "print('post-modification w_reshaped:\\n', w_reshaped)\n",
    "# changes reflect in both 'w' array and 'w_reshaped' matrix because both reference the same space in memory"
   ]
  },
  {
   "cell_type": "code",
   "execution_count": 37,
   "metadata": {},
   "outputs": [
    {
     "name": "stdout",
     "output_type": "stream",
     "text": [
      "original reshape:\n",
      " [[1 2 3]\n",
      " [4 7 6]]\n",
      "original shape: (2, 3)\n",
      "transposed matrix:\n",
      " [[1 4]\n",
      " [2 7]\n",
      " [3 6]]\n",
      "transpose shape: (3, 2)\n"
     ]
    }
   ],
   "source": [
    "w_transpose = w_reshaped.T\n",
    "print('original reshape:\\n', w_reshaped)\n",
    "print('original shape:', w_reshaped.shape)\n",
    "print('transposed matrix:\\n', w_transpose)\n",
    "print('transpose shape:', w_transpose.shape)"
   ]
  },
  {
   "cell_type": "code",
   "execution_count": 39,
   "metadata": {},
   "outputs": [
    {
     "data": {
      "text/plain": [
       "array([ 1,  4,  9, 16, 49, 36])"
      ]
     },
     "execution_count": 39,
     "metadata": {},
     "output_type": "execute_result"
    }
   ],
   "source": [
    "w_squared = w ** 2 # squaring all numbers in a matrix\n",
    "w_squared"
   ]
  },
  {
   "cell_type": "code",
   "execution_count": 41,
   "metadata": {},
   "outputs": [
    {
     "name": "stdout",
     "output_type": "stream",
     "text": [
      "w_root dtype: float64\n"
     ]
    },
    {
     "data": {
      "text/plain": [
       "array([1.        , 1.41421356, 1.73205081, 2.        , 2.64575131,\n",
       "       2.44948974])"
      ]
     },
     "execution_count": 41,
     "metadata": {},
     "output_type": "execute_result"
    }
   ],
   "source": [
    "w_root  = np.sqrt(w) # square root of all numbers\n",
    "print('w_root dtype:', w_root.dtype)\n",
    "w_root\n"
   ]
  },
  {
   "cell_type": "markdown",
   "metadata": {},
   "source": [
    "## Random Numbers"
   ]
  },
  {
   "cell_type": "code",
   "execution_count": 43,
   "metadata": {},
   "outputs": [
    {
     "data": {
      "text/plain": [
       "array([-0.46554318, -0.79673534,  0.99908655, -0.76129324, -1.69023404,\n",
       "        0.54340275, -1.03618135, -0.35555361, -0.83460833,  0.4963494 ,\n",
       "        0.6840348 , -0.27964507, -0.78258765, -0.22800486, -0.24688422,\n",
       "       -0.59361446,  0.82396778, -2.95824742,  0.03776546,  1.13266011,\n",
       "        1.29106038,  1.26402032, -1.28787238,  0.89861714,  0.02353533,\n",
       "       -0.1753472 ,  1.82177487, -0.23833831,  0.62518813,  1.22517299,\n",
       "        0.87512254,  0.00384089,  1.85797236,  0.96956394,  0.1725828 ,\n",
       "       -0.42269805, -0.76621833, -0.22413444, -1.20205979, -0.14142435,\n",
       "        0.07608631,  0.28886741,  2.13876376,  1.35278524, -0.88350298,\n",
       "        0.06894849,  0.83415443, -1.24386257, -1.23989251, -0.07079066])"
      ]
     },
     "execution_count": 43,
     "metadata": {},
     "output_type": "execute_result"
    }
   ],
   "source": [
    "x = np.random.normal(size=50) # vector of 50 random numbers \n",
    "x"
   ]
  },
  {
   "cell_type": "code",
   "execution_count": 45,
   "metadata": {},
   "outputs": [
    {
     "data": {
      "text/plain": [
       "array([48.72799222, 49.39925303, 50.66971418, 49.09161205, 49.23647331,\n",
       "       51.22113854, 47.39262869, 49.84681006, 48.46974946, 49.66145544,\n",
       "       50.67738222, 49.90895495, 48.80204447, 50.85039672, 50.77894356,\n",
       "       49.7427931 , 52.06553522, 46.73578849, 48.16559133, 51.18294286,\n",
       "       51.71399711, 50.21059051, 47.86934394, 49.82924375, 49.97113598,\n",
       "       48.7152793 , 51.41112754, 49.4709292 , 51.54605799, 51.15606213,\n",
       "       51.33531992, 50.52420089, 52.48647627, 51.44435174, 51.52865763,\n",
       "       50.87102628, 48.43806456, 50.53152842, 48.89579462, 50.01859827,\n",
       "       49.87532694, 50.54249457, 52.77397385, 50.32532341, 48.56135399,\n",
       "       51.03604064, 50.68154983, 48.94504598, 49.29764011, 51.55510261])"
      ]
     },
     "execution_count": 45,
     "metadata": {},
     "output_type": "execute_result"
    }
   ],
   "source": [
    "y = x + np.random.normal(loc=50, scale=1, size=50) # addind an independant random variable to each element of X\n",
    "y"
   ]
  },
  {
   "cell_type": "code",
   "execution_count": 46,
   "metadata": {},
   "outputs": [
    {
     "data": {
      "text/plain": [
       "array([[1.        , 0.80321174],\n",
       "       [0.80321174, 1.        ]])"
      ]
     },
     "execution_count": 46,
     "metadata": {},
     "output_type": "execute_result"
    }
   ],
   "source": [
    "np.corrcoef(x, y) # correlation coefficient between x and y"
   ]
  },
  {
   "cell_type": "code",
   "execution_count": 49,
   "metadata": {},
   "outputs": [
    {
     "name": "stdout",
     "output_type": "stream",
     "text": [
      "[-13.06137217  -9.50567146]\n",
      "[ 6.97435374 -0.85826475]\n"
     ]
    }
   ],
   "source": [
    "print(np.random.normal(scale=5, size=2))\n",
    "print(np.random.normal(scale=5, size=2))\n",
    "# each an np.random function is run a different result is produced"
   ]
  },
  {
   "cell_type": "code",
   "execution_count": 52,
   "metadata": {},
   "outputs": [
    {
     "name": "stdout",
     "output_type": "stream",
     "text": [
      "\u001b[0;31mDocstring:\u001b[0m\n",
      "default_rng(seed=None)\n",
      "Construct a new Generator with the default BitGenerator (PCG64).\n",
      "\n",
      "    Parameters\n",
      "    ----------\n",
      "    seed : {None, int, array_like[ints], SeedSequence, BitGenerator, Generator}, optional\n",
      "        A seed to initialize the `BitGenerator`. If None, then fresh,\n",
      "        unpredictable entropy will be pulled from the OS. If an ``int`` or\n",
      "        ``array_like[ints]`` is passed, then it will be passed to\n",
      "        `SeedSequence` to derive the initial `BitGenerator` state. One may also\n",
      "        pass in a `SeedSequence` instance.\n",
      "        Additionally, when passed a `BitGenerator`, it will be wrapped by\n",
      "        `Generator`. If passed a `Generator`, it will be returned unaltered.\n",
      "\n",
      "    Returns\n",
      "    -------\n",
      "    Generator\n",
      "        The initialized generator object.\n",
      "\n",
      "    Notes\n",
      "    -----\n",
      "    If ``seed`` is not a `BitGenerator` or a `Generator`, a new `BitGenerator`\n",
      "    is instantiated. This function does not manage a default global instance.\n",
      "\n",
      "    See :ref:`seeding_and_entropy` for more information about seeding.\n",
      "    \n",
      "    Examples\n",
      "    --------\n",
      "    ``default_rng`` is the recommended constructor for the random number class\n",
      "    ``Generator``. Here are several ways we can construct a random \n",
      "    number generator using ``default_rng`` and the ``Generator`` class. \n",
      "    \n",
      "    Here we use ``default_rng`` to generate a random float:\n",
      " \n",
      "    >>> import numpy as np\n",
      "    >>> rng = np.random.default_rng(12345)\n",
      "    >>> print(rng)\n",
      "    Generator(PCG64)\n",
      "    >>> rfloat = rng.random()\n",
      "    >>> rfloat\n",
      "    0.22733602246716966\n",
      "    >>> type(rfloat)\n",
      "    <class 'float'>\n",
      "     \n",
      "    Here we use ``default_rng`` to generate 3 random integers between 0 \n",
      "    (inclusive) and 10 (exclusive):\n",
      "        \n",
      "    >>> import numpy as np\n",
      "    >>> rng = np.random.default_rng(12345)\n",
      "    >>> rints = rng.integers(low=0, high=10, size=3)\n",
      "    >>> rints\n",
      "    array([6, 2, 7])\n",
      "    >>> type(rints[0])\n",
      "    <class 'numpy.int64'>\n",
      "    \n",
      "    Here we specify a seed so that we have reproducible results:\n",
      "    \n",
      "    >>> import numpy as np\n",
      "    >>> rng = np.random.default_rng(seed=42)\n",
      "    >>> print(rng)\n",
      "    Generator(PCG64)\n",
      "    >>> arr1 = rng.random((3, 3))\n",
      "    >>> arr1\n",
      "    array([[0.77395605, 0.43887844, 0.85859792],\n",
      "           [0.69736803, 0.09417735, 0.97562235],\n",
      "           [0.7611397 , 0.78606431, 0.12811363]])\n",
      "\n",
      "    If we exit and restart our Python interpreter, we'll see that we\n",
      "    generate the same random numbers again:\n",
      "\n",
      "    >>> import numpy as np\n",
      "    >>> rng = np.random.default_rng(seed=42)\n",
      "    >>> arr2 = rng.random((3, 3))\n",
      "    >>> arr2\n",
      "    array([[0.77395605, 0.43887844, 0.85859792],\n",
      "           [0.69736803, 0.09417735, 0.97562235],\n",
      "           [0.7611397 , 0.78606431, 0.12811363]])\n",
      "\n",
      "    \n",
      "\u001b[0;31mType:\u001b[0m      builtin_function_or_method"
     ]
    }
   ],
   "source": [
    "np.random.default_rng?"
   ]
  },
  {
   "cell_type": "code",
   "execution_count": 54,
   "metadata": {},
   "outputs": [
    {
     "name": "stdout",
     "output_type": "stream",
     "text": [
      "[ 4.09482632 -1.07485605]\n",
      "[ 4.09482632 -1.07485605]\n"
     ]
    }
   ],
   "source": [
    "rng = np.random.default_rng(1303) # setting the seed for np.random to make generator results reproducible \n",
    "print(rng.normal(scale=5, size=2)) \n",
    "rng2 = np.random.default_rng(1303)\n",
    "print(rng2.normal(scale=5, size=2))"
   ]
  }
 ],
 "metadata": {
  "kernelspec": {
   "display_name": "islp",
   "language": "python",
   "name": "python3"
  },
  "language_info": {
   "codemirror_mode": {
    "name": "ipython",
    "version": 3
   },
   "file_extension": ".py",
   "mimetype": "text/x-python",
   "name": "python",
   "nbconvert_exporter": "python",
   "pygments_lexer": "ipython3",
   "version": "3.13.0"
  }
 },
 "nbformat": 4,
 "nbformat_minor": 2
}
